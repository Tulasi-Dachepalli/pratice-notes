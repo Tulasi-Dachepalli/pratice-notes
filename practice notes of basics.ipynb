{
 "cells": [
  {
   "cell_type": "markdown",
   "id": "74b1bbaa",
   "metadata": {},
   "source": [
    "#latest version of python:\n",
    "new version of python:3.11.3\n",
    "\n",
    "#syntax rules:\n",
    "python is case sensitive\n",
    "for path specification\n",
    "separate statements\n",
    "string literals\n",
    "comments\n",
    "line continuation\n"
   ]
  },
  {
   "cell_type": "code",
   "execution_count": 1,
   "id": "d6cf1b02",
   "metadata": {},
   "outputs": [
    {
     "name": "stdout",
     "output_type": "stream",
     "text": [
      "hello world\n"
     ]
    }
   ],
   "source": [
    "#print hello world program\n",
    "a= \"hello world\"\n",
    "print(a)"
   ]
  },
  {
   "cell_type": "markdown",
   "id": "15cca61d",
   "metadata": {},
   "source": [
    "#numbers and math:\n",
    "    \n",
    "factorial method:this method returns the factorial valueof a number\n",
    "floor:returns the largest integer less than or equal to x\n",
    "logarithmic:logarthimic ,exponetial,or,factorial etc. are not built_in\n",
    "pow()method:the pow()method of the math module returns the value of input numbers x raised to thepower y that x^y...\n",
    "gcd method:this functions takes two integer as input and returs the gcd    "
   ]
  },
  {
   "cell_type": "markdown",
   "id": "11854f95",
   "metadata": {},
   "source": [
    "#datatypes\n",
    "1)numbers:integers (1), floating points(4.5), complex numbers(3+5i)\n",
    "2)list:an ordered sequence of items and mutable function  eg:[5,  'hello'   6.8]\n",
    "3)tuples:it is also an orderder sequence of elements and it is immutable  eg:(2, 'hi', 3.5)\n",
    "4)string:a sequence of charcter is called a string  eg:'hello','world'.\n",
    "5)set:sets are a collection of unique that are not in order   eg:{6,2,4}\n",
    "6)dictionary:stores values in key aand value pairs where value can be accessed through it key, the order of item is not same   eg:{1: 'hi' ,2:'world}\n",
    "7)boolean:the values are 2 types 1)true, 2)flase\n"
   ]
  },
  {
   "cell_type": "code",
   "execution_count": 7,
   "id": "914966a0",
   "metadata": {},
   "outputs": [
    {
     "name": "stdout",
     "output_type": "stream",
     "text": [
      "apple\n",
      "banana\n",
      "cherry\n",
      "orange\n"
     ]
    }
   ],
   "source": [
    "#break function\n",
    "#the break statement terminates the loop immediately and the  control flows to the statement after the body of thr loop\n",
    "fruits = [\"apple\", \"banana\", \"cherry\", \"orange\", \"kiwi\"]\n",
    "for fruit in fruits:\n",
    "    print(fruit)\n",
    "    if fruit == \"orange\":\n",
    "        break\n"
   ]
  },
  {
   "cell_type": "code",
   "execution_count": 8,
   "id": "54257f81",
   "metadata": {},
   "outputs": [
    {
     "name": "stdout",
     "output_type": "stream",
     "text": [
      "1\n",
      "3\n",
      "5\n",
      "7\n",
      "9\n"
     ]
    }
   ],
   "source": [
    "#pass function:the pass keyword represent a null operation in python\n",
    "def my_function():\n",
    "    pass\n",
    "for i in range(10):\n",
    "    if i % 2 == 0:\n",
    "        pass\n",
    "    else:\n",
    "        print(i)\n"
   ]
  },
  {
   "cell_type": "code",
   "execution_count": 9,
   "id": "6ee6a05c",
   "metadata": {},
   "outputs": [
    {
     "name": "stdout",
     "output_type": "stream",
     "text": [
      "1\n",
      "3\n",
      "5\n",
      "7\n",
      "9\n"
     ]
    }
   ],
   "source": [
    "#continue:the continue statement terminates the current iteration of the statement,skips the rest of the current iterations and the current flows to the next iteration of the loop\n",
    "for i in range(10):\n",
    "    if i % 2 == 0:\n",
    "        continue\n",
    "    print(i)\n"
   ]
  },
  {
   "cell_type": "code",
   "execution_count": null,
   "id": "ce4e3a1a",
   "metadata": {},
   "outputs": [],
   "source": []
  }
 ],
 "metadata": {
  "kernelspec": {
   "display_name": "Python 3 (ipykernel)",
   "language": "python",
   "name": "python3"
  },
  "language_info": {
   "codemirror_mode": {
    "name": "ipython",
    "version": 3
   },
   "file_extension": ".py",
   "mimetype": "text/x-python",
   "name": "python",
   "nbconvert_exporter": "python",
   "pygments_lexer": "ipython3",
   "version": "3.9.9"
  }
 },
 "nbformat": 4,
 "nbformat_minor": 5
}
